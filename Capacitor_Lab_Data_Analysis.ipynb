{
  "nbformat": 4,
  "nbformat_minor": 0,
  "metadata": {
    "colab": {
      "provenance": [],
      "authorship_tag": "ABX9TyPe1TDZN0SReMENyySncXd6",
      "include_colab_link": true
    },
    "kernelspec": {
      "name": "python3",
      "display_name": "Python 3"
    },
    "language_info": {
      "name": "python"
    }
  },
  "cells": [
    {
      "cell_type": "markdown",
      "metadata": {
        "id": "view-in-github",
        "colab_type": "text"
      },
      "source": [
        "<a href=\"https://colab.research.google.com/github/Paduru/AP_Physics_Projects/blob/main/Capacitor_Lab_Data_Analysis.ipynb\" target=\"_parent\"><img src=\"https://colab.research.google.com/assets/colab-badge.svg\" alt=\"Open In Colab\"/></a>"
      ]
    },
    {
      "cell_type": "code",
      "source": [
        "#Click this cell first\n",
        "\n",
        "#Import in Capacitor CSV file\n",
        "from google.colab import files\n",
        "data_to_load = files.upload()"
      ],
      "metadata": {
        "id": "2ouF1C_usLiU"
      },
      "execution_count": null,
      "outputs": []
    },
    {
      "cell_type": "code",
      "source": [
        "import pandas as pd\n",
        "\n",
        "#Click Cell Second\n",
        "\n",
        "#Creates Dataframe under varible name df\n",
        "\n",
        "df = pd.read_csv(\"ExportedData.csv\")\n",
        "\n",
        "print(df)"
      ],
      "metadata": {
        "id": "-DKjfyJysh76"
      },
      "execution_count": null,
      "outputs": []
    },
    {
      "cell_type": "code",
      "source": [
        "#Click this cell third\n",
        "\n",
        "#Separates time and voltage data for run 1 and 2\n",
        "\n",
        "t_run_1 = df[\"Time (s) Run 1\"]\n",
        "v_run_1 = df[\"Voltage (V) Run 1\"]\n",
        "t_run_2 = df[\"Time (s) Run 2\"]\n",
        "v_run_2 = df[\"Voltage (V) Run 2\"]\n",
        "\n",
        "print(t_run_1, v_run_1, t_run_2, v_run_2)"
      ],
      "metadata": {
        "id": "IZnOB7WqvdgL"
      },
      "execution_count": null,
      "outputs": []
    },
    {
      "cell_type": "code",
      "source": [
        "#Click this cell fourth\n",
        "\n",
        "#Cleans up data (Switchs voltage data to positive and removes extraneous NaN values) and converts them into arrays\n",
        "\n",
        "V_run_1 = []\n",
        "V_run_2 = []\n",
        "T_run_1 = []\n",
        "T_run_2 = []\n",
        "\n",
        "for val in v_run_1:\n",
        "  if val!=\"Nan\":\n",
        "    v = abs(val)\n",
        "    V_run_1.append(v)\n",
        "\n",
        "for val in v_run_2:\n",
        "  if val!=\"NaN\":\n",
        "    v = abs(val)\n",
        "    V_run_2.append(v)\n",
        "\n",
        "for val in t_run_1:\n",
        "  if val!=\"NaN\":\n",
        "    T_run_1.append(val)\n",
        "\n",
        "for val in t_run_2:\n",
        "  if val!=\"NaN\":\n",
        "    T_run_2.append(val)\n",
        "\n",
        "print(len(T_run_1))\n",
        "\n",
        "#This while loop removes extraneous data. It takes a while to run.\n",
        "#If cell doesn't excute immediatly, wait for a few minutes.\n",
        "\n",
        "i=118315\n",
        "while i>28457:\n",
        "  T_run_1.remove(T_run_1[i])\n",
        "  V_run_1.remove(V_run_1[i])\n",
        "  i = i - 1\n",
        "\n",
        "print(len(T_run_1))\n",
        "\n",
        "print(T_run_1[28457])\n",
        "print(T_run_1)\n",
        "print(T_run_2)\n",
        "print(V_run_1)\n",
        "print(V_run_2)"
      ],
      "metadata": {
        "id": "lWLOm2nzzMgM"
      },
      "execution_count": null,
      "outputs": []
    },
    {
      "cell_type": "code",
      "execution_count": null,
      "metadata": {
        "id": "fShcEcnuRjtE"
      },
      "outputs": [],
      "source": [
        "#Analysis and plot of charging data (run 1)\n",
        "\n",
        "import numpy as np\n",
        "import matplotlib.pyplot as plt\n",
        "from scipy.optimize import curve_fit\n",
        "\n",
        "# Define the function to fit\n",
        "def func1(x, A, k):\n",
        "    return A * ( 1 - np.exp(-k * x) )\n",
        "\n",
        "# Fit the curve\n",
        "popt, pcov = curve_fit(func1, T_run_1, V_run_1)\n",
        "\n",
        "# Extract the fitted parameters\n",
        "A_1, k_1 = popt\n",
        "\n",
        "# Print the fitted parameters\n",
        "print(\"A =\", A_1)\n",
        "print(\"k =\", k_1)\n",
        "\n",
        "#Calculating values for trendline\n",
        "V_run_1_cal = []\n",
        "for val in T_run_1:\n",
        "  v_cal = func1(val, A_1, k_1)\n",
        "  V_run_1_cal.append(v_cal)\n",
        "\n",
        "# Plot the data and the fitted curve with title and labeled axis\n",
        "print(\"Voltage vs Time for for Charging Capacitor (Run1)\")\n",
        "plt.scatter(T_run_1, V_run_1, label=\"data\")\n",
        "plt.plot(T_run_1, V_run_1_cal, 'r-', label='Fit')\n",
        "plt.xlabel('Time (seconds)')\n",
        "plt.ylabel('Voltage (Volts)')\n",
        "plt.legend()\n",
        "plt.show()"
      ]
    },
    {
      "cell_type": "code",
      "source": [
        "#Analysis and plot of discharging data (run 2)\n",
        "\n",
        "# Define the function to fit\n",
        "def func2(x, A, k):\n",
        "    return A * np.exp(-k * x)\n",
        "\n",
        "# Fit the curve\n",
        "popt, pcov = curve_fit(func2, T_run_2, V_run_2)\n",
        "\n",
        "# Extract the fitted parameters\n",
        "A_2, k_2 = popt\n",
        "\n",
        "# Print the fitted parameters\n",
        "print(\"A =\", A_2)\n",
        "print(\"k =\", k_2)\n",
        "\n",
        "#Calculating values for trendline\n",
        "V_run_2_cal = []\n",
        "for val in T_run_2:\n",
        "  v_cal = func2(val, A_2, k_2)\n",
        "  V_run_2_cal.append(v_cal)\n",
        "\n",
        "# Plot the data and the fitted curve\n",
        "print(\"Voltage vs Time for for Disharging Capacitor (Run2)\")\n",
        "plt.scatter(T_run_2, V_run_2, label=\"data\")\n",
        "plt.plot(T_run_2, V_run_2_cal, 'r-', label='Fit')\n",
        "plt.xlabel('Time (seconds)')\n",
        "plt.ylabel('Voltage (Volts)')\n",
        "plt.legend()\n",
        "plt.show()"
      ],
      "metadata": {
        "id": "Y3nTa2CMDL_j"
      },
      "execution_count": null,
      "outputs": []
    }
  ]
}